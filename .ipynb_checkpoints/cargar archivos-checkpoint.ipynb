{
 "cells": [
  {
   "cell_type": "code",
   "execution_count": 1,
   "id": "8f73653a",
   "metadata": {},
   "outputs": [],
   "source": [
    "import pandas as pd"
   ]
  },
  {
   "cell_type": "code",
   "execution_count": 2,
   "id": "795a2ef7",
   "metadata": {},
   "outputs": [],
   "source": [
    "datos_csv1 = pd.read_csv('C:/Users/Brandon/Downloads/plano_siembra_tika.csv',dtype={'ciclo':int})\n",
    "# Importar archivo Excel\n",
    "#datos_excel = importar_datos('archivo.xlsx', tipo='excel', sheet_name='Sheet1')"
   ]
  },
  {
   "cell_type": "code",
   "execution_count": 3,
   "id": "a3899e55",
   "metadata": {},
   "outputs": [],
   "source": [
    "datos_csv1 = datos_csv1[\n",
    "    ['id', 'Finca', 'Bloque', 'Nave', 'Cama', 'Variedad', 'Flor',\n",
    "       'Semana siembra', 'Ciclo', 'S. Arranque calculada',\n",
    "        'Estado','Edad',\n",
    "       'Equejes sembrados.1', 'Origen']\n",
    "]"
   ]
  },
  {
   "cell_type": "code",
   "execution_count": 4,
   "id": "8c1a905c",
   "metadata": {},
   "outputs": [],
   "source": [
    "datos_csv1.columns = datos_csv1.columns.str.lower()\n",
    "datos_csv1.columns = datos_csv1.columns.str.replace(' ', '_')"
   ]
  },
  {
   "cell_type": "code",
   "execution_count": 5,
   "id": "ba0474c2",
   "metadata": {},
   "outputs": [],
   "source": [
    "datos_csv1 = datos_csv1[datos_csv1['equejes_sembrados.1']>0]"
   ]
  },
  {
   "cell_type": "code",
   "execution_count": 6,
   "id": "f8a578f4",
   "metadata": {},
   "outputs": [],
   "source": [
    "convertir_entero = ['semana_siembra','edad','equejes_sembrados.1','ciclo']\n",
    "datos_csv1[convertir_entero] = datos_csv1[convertir_entero].astype(int)"
   ]
  },
  {
   "cell_type": "code",
   "execution_count": 7,
   "id": "f8a5dea2",
   "metadata": {},
   "outputs": [],
   "source": [
    "datos_csv1.rename(\n",
    "    {'equejes_sembrados.1':'esquejes',\n",
    "    's._arranque_calculada':'arranque',\n",
    "    'semana_siembra':'siembra'},\n",
    "    axis=1,\n",
    "    inplace = True\n",
    ")"
   ]
  },
  {
   "cell_type": "code",
   "execution_count": 8,
   "id": "514f0c28",
   "metadata": {},
   "outputs": [],
   "source": [
    "datos_csv2 = datos_csv1.copy()"
   ]
  },
  {
   "cell_type": "code",
   "execution_count": 9,
   "id": "4c4efee3",
   "metadata": {},
   "outputs": [],
   "source": [
    "datos_csv2['camas'] = datos_csv2.esquejes.apply(\n",
    "    lambda x: round(x/960,1)\n",
    ")"
   ]
  },
  {
   "cell_type": "code",
   "execution_count": 10,
   "id": "a2629a9f",
   "metadata": {},
   "outputs": [],
   "source": [
    "def pico(x):\n",
    "    if x <= 40:\n",
    "        return 1\n",
    "    elif x > 40 and x <= 76:\n",
    "        return 2\n",
    "    else:\n",
    "        return 3"
   ]
  },
  {
   "cell_type": "code",
   "execution_count": 11,
   "id": "945f9da9",
   "metadata": {},
   "outputs": [],
   "source": [
    "datos_csv2['pico'] = datos_csv2.edad.apply(\n",
    "    pico\n",
    ").astype(int)"
   ]
  },
  {
   "cell_type": "code",
   "execution_count": 12,
   "id": "0c100cc5",
   "metadata": {},
   "outputs": [
    {
     "data": {
      "text/html": [
       "<div>\n",
       "<style scoped>\n",
       "    .dataframe tbody tr th:only-of-type {\n",
       "        vertical-align: middle;\n",
       "    }\n",
       "\n",
       "    .dataframe tbody tr th {\n",
       "        vertical-align: top;\n",
       "    }\n",
       "\n",
       "    .dataframe thead th {\n",
       "        text-align: right;\n",
       "    }\n",
       "</style>\n",
       "<table border=\"1\" class=\"dataframe\">\n",
       "  <thead>\n",
       "    <tr style=\"text-align: right;\">\n",
       "      <th></th>\n",
       "      <th>id</th>\n",
       "      <th>finca</th>\n",
       "      <th>bloque</th>\n",
       "      <th>nave</th>\n",
       "      <th>cama</th>\n",
       "      <th>variedad</th>\n",
       "      <th>flor</th>\n",
       "      <th>siembra</th>\n",
       "      <th>ciclo</th>\n",
       "      <th>arranque</th>\n",
       "      <th>estado</th>\n",
       "      <th>edad</th>\n",
       "      <th>esquejes</th>\n",
       "      <th>origen</th>\n",
       "      <th>camas</th>\n",
       "      <th>pico</th>\n",
       "    </tr>\n",
       "  </thead>\n",
       "  <tbody>\n",
       "    <tr>\n",
       "      <th>0</th>\n",
       "      <td>18106.0</td>\n",
       "      <td>INVERPALMAS</td>\n",
       "      <td>39</td>\n",
       "      <td>5</td>\n",
       "      <td>B3</td>\n",
       "      <td>SPECTRO</td>\n",
       "      <td>MINICLAVEL</td>\n",
       "      <td>2240</td>\n",
       "      <td>3</td>\n",
       "      <td>2438.0</td>\n",
       "      <td>Sembrada</td>\n",
       "      <td>81</td>\n",
       "      <td>932</td>\n",
       "      <td>Real</td>\n",
       "      <td>1.0</td>\n",
       "      <td>3</td>\n",
       "    </tr>\n",
       "    <tr>\n",
       "      <th>1</th>\n",
       "      <td>21284.0</td>\n",
       "      <td>INVERPALMAS</td>\n",
       "      <td>21</td>\n",
       "      <td>3</td>\n",
       "      <td>B6</td>\n",
       "      <td>DONCEL</td>\n",
       "      <td>CLAVEL</td>\n",
       "      <td>2312</td>\n",
       "      <td>2</td>\n",
       "      <td>2426.0</td>\n",
       "      <td>Sembrada</td>\n",
       "      <td>57</td>\n",
       "      <td>1068</td>\n",
       "      <td>Real</td>\n",
       "      <td>1.1</td>\n",
       "      <td>2</td>\n",
       "    </tr>\n",
       "    <tr>\n",
       "      <th>2</th>\n",
       "      <td>27784.0</td>\n",
       "      <td>PALERMO</td>\n",
       "      <td>24</td>\n",
       "      <td>5</td>\n",
       "      <td>B1</td>\n",
       "      <td>CAESAR</td>\n",
       "      <td>MINICLAVEL</td>\n",
       "      <td>2415</td>\n",
       "      <td>2</td>\n",
       "      <td>2529.0</td>\n",
       "      <td>Sembrada</td>\n",
       "      <td>2</td>\n",
       "      <td>964</td>\n",
       "      <td>Real</td>\n",
       "      <td>1.0</td>\n",
       "      <td>1</td>\n",
       "    </tr>\n",
       "    <tr>\n",
       "      <th>3</th>\n",
       "      <td>25571.0</td>\n",
       "      <td>INVERPALMAS</td>\n",
       "      <td>44</td>\n",
       "      <td>3</td>\n",
       "      <td>A5</td>\n",
       "      <td>MOON_LIGHT</td>\n",
       "      <td>CLAVEL</td>\n",
       "      <td>2346</td>\n",
       "      <td>2</td>\n",
       "      <td>2508.0</td>\n",
       "      <td>Sembrada</td>\n",
       "      <td>23</td>\n",
       "      <td>940</td>\n",
       "      <td>Real</td>\n",
       "      <td>1.0</td>\n",
       "      <td>1</td>\n",
       "    </tr>\n",
       "    <tr>\n",
       "      <th>4</th>\n",
       "      <td>22358.0</td>\n",
       "      <td>INVERPALMAS</td>\n",
       "      <td>32</td>\n",
       "      <td>8</td>\n",
       "      <td>A4</td>\n",
       "      <td>MOON_LIGHT</td>\n",
       "      <td>CLAVEL</td>\n",
       "      <td>2333</td>\n",
       "      <td>2</td>\n",
       "      <td>2447.0</td>\n",
       "      <td>Sembrada</td>\n",
       "      <td>36</td>\n",
       "      <td>944</td>\n",
       "      <td>Real</td>\n",
       "      <td>1.0</td>\n",
       "      <td>1</td>\n",
       "    </tr>\n",
       "  </tbody>\n",
       "</table>\n",
       "</div>"
      ],
      "text/plain": [
       "        id        finca  bloque  nave cama    variedad        flor  siembra  \\\n",
       "0  18106.0  INVERPALMAS      39     5   B3     SPECTRO  MINICLAVEL     2240   \n",
       "1  21284.0  INVERPALMAS      21     3   B6      DONCEL      CLAVEL     2312   \n",
       "2  27784.0      PALERMO      24     5   B1      CAESAR  MINICLAVEL     2415   \n",
       "3  25571.0  INVERPALMAS      44     3   A5  MOON_LIGHT      CLAVEL     2346   \n",
       "4  22358.0  INVERPALMAS      32     8   A4  MOON_LIGHT      CLAVEL     2333   \n",
       "\n",
       "   ciclo  arranque    estado  edad  esquejes origen  camas  pico  \n",
       "0      3    2438.0  Sembrada    81       932   Real    1.0     3  \n",
       "1      2    2426.0  Sembrada    57      1068   Real    1.1     2  \n",
       "2      2    2529.0  Sembrada     2       964   Real    1.0     1  \n",
       "3      2    2508.0  Sembrada    23       940   Real    1.0     1  \n",
       "4      2    2447.0  Sembrada    36       944   Real    1.0     1  "
      ]
     },
     "execution_count": 12,
     "metadata": {},
     "output_type": "execute_result"
    }
   ],
   "source": [
    "datos_csv2.head()"
   ]
  },
  {
   "cell_type": "code",
   "execution_count": 32,
   "id": "ee503f91",
   "metadata": {},
   "outputs": [
    {
     "data": {
      "text/plain": [
       "ciclo  pico\n",
       "1      1        347.8\n",
       "2      1       4479.6\n",
       "       2       2437.4\n",
       "3      3        154.5\n",
       "Name: camas, dtype: float64"
      ]
     },
     "execution_count": 32,
     "metadata": {},
     "output_type": "execute_result"
    }
   ],
   "source": [
    "datos_csv2.groupby(\n",
    "    ['ciclo','pico']\n",
    ")['camas'].sum()"
   ]
  },
  {
   "cell_type": "code",
   "execution_count": 24,
   "id": "998f144f",
   "metadata": {},
   "outputs": [
    {
     "data": {
      "text/plain": [
       "ciclo1  pico\n",
       "1       1        347.8\n",
       "        2          9.9\n",
       "2       1       4418.6\n",
       "        2       2312.0\n",
       "        3          0.5\n",
       "3       1         61.0\n",
       "        2        115.5\n",
       "        3        154.0\n",
       "Name: camas, dtype: float64"
      ]
     },
     "execution_count": 24,
     "metadata": {},
     "output_type": "execute_result"
    }
   ],
   "source": [
    "datos_csv2.groupby(\n",
    "    ['ciclo1','pico']\n",
    ")['camas'].sum()"
   ]
  },
  {
   "cell_type": "code",
   "execution_count": 25,
   "id": "13b00feb",
   "metadata": {},
   "outputs": [],
   "source": [
    "def ajusta_ciclo(row):\n",
    "    if row['ciclo'] == 1 and row['pico'] == 2:\n",
    "        return 2\n",
    "    elif  row['ciclo'] == 3 and row['pico'] < 3:\n",
    "        return 2\n",
    "    elif  row['ciclo'] == 2 and row['pico'] == 3:\n",
    "        return 3\n",
    "    else:\n",
    "        return row['ciclo']"
   ]
  },
  {
   "cell_type": "code",
   "execution_count": 26,
   "id": "b743c126",
   "metadata": {},
   "outputs": [],
   "source": [
    "datos_csv2['ciclo_'] = datos_csv2.apply(\n",
    "    ajusta_ciclo,\n",
    "    axis=1\n",
    ")"
   ]
  },
  {
   "cell_type": "code",
   "execution_count": 27,
   "id": "ab2a23b5",
   "metadata": {},
   "outputs": [
    {
     "data": {
      "text/html": [
       "<div>\n",
       "<style scoped>\n",
       "    .dataframe tbody tr th:only-of-type {\n",
       "        vertical-align: middle;\n",
       "    }\n",
       "\n",
       "    .dataframe tbody tr th {\n",
       "        vertical-align: top;\n",
       "    }\n",
       "\n",
       "    .dataframe thead th {\n",
       "        text-align: right;\n",
       "    }\n",
       "</style>\n",
       "<table border=\"1\" class=\"dataframe\">\n",
       "  <thead>\n",
       "    <tr style=\"text-align: right;\">\n",
       "      <th></th>\n",
       "      <th>id</th>\n",
       "      <th>finca</th>\n",
       "      <th>bloque</th>\n",
       "      <th>nave</th>\n",
       "      <th>cama</th>\n",
       "      <th>variedad</th>\n",
       "      <th>flor</th>\n",
       "      <th>siembra</th>\n",
       "      <th>ciclo1</th>\n",
       "      <th>arranque</th>\n",
       "      <th>estado</th>\n",
       "      <th>edad</th>\n",
       "      <th>esquejes</th>\n",
       "      <th>origen</th>\n",
       "      <th>camas</th>\n",
       "      <th>pico</th>\n",
       "      <th>ciclo</th>\n",
       "      <th>ciclo_</th>\n",
       "    </tr>\n",
       "  </thead>\n",
       "  <tbody>\n",
       "    <tr>\n",
       "      <th>0</th>\n",
       "      <td>18106.0</td>\n",
       "      <td>INVERPALMAS</td>\n",
       "      <td>39</td>\n",
       "      <td>5</td>\n",
       "      <td>B3</td>\n",
       "      <td>SPECTRO</td>\n",
       "      <td>MINICLAVEL</td>\n",
       "      <td>2240</td>\n",
       "      <td>3</td>\n",
       "      <td>2438.0</td>\n",
       "      <td>Sembrada</td>\n",
       "      <td>81</td>\n",
       "      <td>932</td>\n",
       "      <td>Real</td>\n",
       "      <td>1.0</td>\n",
       "      <td>3</td>\n",
       "      <td>3</td>\n",
       "      <td>3</td>\n",
       "    </tr>\n",
       "    <tr>\n",
       "      <th>1</th>\n",
       "      <td>21284.0</td>\n",
       "      <td>INVERPALMAS</td>\n",
       "      <td>21</td>\n",
       "      <td>3</td>\n",
       "      <td>B6</td>\n",
       "      <td>DONCEL</td>\n",
       "      <td>CLAVEL</td>\n",
       "      <td>2312</td>\n",
       "      <td>2</td>\n",
       "      <td>2426.0</td>\n",
       "      <td>Sembrada</td>\n",
       "      <td>57</td>\n",
       "      <td>1068</td>\n",
       "      <td>Real</td>\n",
       "      <td>1.1</td>\n",
       "      <td>2</td>\n",
       "      <td>2</td>\n",
       "      <td>2</td>\n",
       "    </tr>\n",
       "    <tr>\n",
       "      <th>2</th>\n",
       "      <td>27784.0</td>\n",
       "      <td>PALERMO</td>\n",
       "      <td>24</td>\n",
       "      <td>5</td>\n",
       "      <td>B1</td>\n",
       "      <td>CAESAR</td>\n",
       "      <td>MINICLAVEL</td>\n",
       "      <td>2415</td>\n",
       "      <td>2</td>\n",
       "      <td>2529.0</td>\n",
       "      <td>Sembrada</td>\n",
       "      <td>2</td>\n",
       "      <td>964</td>\n",
       "      <td>Real</td>\n",
       "      <td>1.0</td>\n",
       "      <td>1</td>\n",
       "      <td>2</td>\n",
       "      <td>2</td>\n",
       "    </tr>\n",
       "    <tr>\n",
       "      <th>3</th>\n",
       "      <td>25571.0</td>\n",
       "      <td>INVERPALMAS</td>\n",
       "      <td>44</td>\n",
       "      <td>3</td>\n",
       "      <td>A5</td>\n",
       "      <td>MOON_LIGHT</td>\n",
       "      <td>CLAVEL</td>\n",
       "      <td>2346</td>\n",
       "      <td>2</td>\n",
       "      <td>2508.0</td>\n",
       "      <td>Sembrada</td>\n",
       "      <td>23</td>\n",
       "      <td>940</td>\n",
       "      <td>Real</td>\n",
       "      <td>1.0</td>\n",
       "      <td>1</td>\n",
       "      <td>2</td>\n",
       "      <td>2</td>\n",
       "    </tr>\n",
       "    <tr>\n",
       "      <th>4</th>\n",
       "      <td>22358.0</td>\n",
       "      <td>INVERPALMAS</td>\n",
       "      <td>32</td>\n",
       "      <td>8</td>\n",
       "      <td>A4</td>\n",
       "      <td>MOON_LIGHT</td>\n",
       "      <td>CLAVEL</td>\n",
       "      <td>2333</td>\n",
       "      <td>2</td>\n",
       "      <td>2447.0</td>\n",
       "      <td>Sembrada</td>\n",
       "      <td>36</td>\n",
       "      <td>944</td>\n",
       "      <td>Real</td>\n",
       "      <td>1.0</td>\n",
       "      <td>1</td>\n",
       "      <td>2</td>\n",
       "      <td>2</td>\n",
       "    </tr>\n",
       "  </tbody>\n",
       "</table>\n",
       "</div>"
      ],
      "text/plain": [
       "        id        finca  bloque  nave cama    variedad        flor  siembra  \\\n",
       "0  18106.0  INVERPALMAS      39     5   B3     SPECTRO  MINICLAVEL     2240   \n",
       "1  21284.0  INVERPALMAS      21     3   B6      DONCEL      CLAVEL     2312   \n",
       "2  27784.0      PALERMO      24     5   B1      CAESAR  MINICLAVEL     2415   \n",
       "3  25571.0  INVERPALMAS      44     3   A5  MOON_LIGHT      CLAVEL     2346   \n",
       "4  22358.0  INVERPALMAS      32     8   A4  MOON_LIGHT      CLAVEL     2333   \n",
       "\n",
       "   ciclo1  arranque    estado  edad  esquejes origen  camas  pico  ciclo  \\\n",
       "0       3    2438.0  Sembrada    81       932   Real    1.0     3      3   \n",
       "1       2    2426.0  Sembrada    57      1068   Real    1.1     2      2   \n",
       "2       2    2529.0  Sembrada     2       964   Real    1.0     1      2   \n",
       "3       2    2508.0  Sembrada    23       940   Real    1.0     1      2   \n",
       "4       2    2447.0  Sembrada    36       944   Real    1.0     1      2   \n",
       "\n",
       "   ciclo_  \n",
       "0       3  \n",
       "1       2  \n",
       "2       2  \n",
       "3       2  \n",
       "4       2  "
      ]
     },
     "execution_count": 27,
     "metadata": {},
     "output_type": "execute_result"
    }
   ],
   "source": [
    "datos_csv2.head()"
   ]
  },
  {
   "cell_type": "code",
   "execution_count": 28,
   "id": "08283642",
   "metadata": {},
   "outputs": [],
   "source": [
    "datos_csv2.rename(\n",
    "    {'ciclo':'ciclo1'},\n",
    "    axis=1,\n",
    "    inplace=True\n",
    ")"
   ]
  },
  {
   "cell_type": "code",
   "execution_count": 29,
   "id": "1e526a64",
   "metadata": {},
   "outputs": [],
   "source": [
    "datos_csv2['ciclo_'] = datos_csv2['ciclo_'].astype(int)"
   ]
  },
  {
   "cell_type": "code",
   "execution_count": 30,
   "id": "71af02c3",
   "metadata": {},
   "outputs": [],
   "source": [
    "datos_csv2.rename(\n",
    "    {'ciclo_':'ciclo'},\n",
    "    axis=1,\n",
    "    inplace=True\n",
    ")"
   ]
  },
  {
   "cell_type": "code",
   "execution_count": 31,
   "id": "cc5175c7",
   "metadata": {},
   "outputs": [],
   "source": [
    "datos_csv2[['id','ciclo']].to_excel(\n",
    "    \"C:/Users/Brandon/Downloads/plano por id.xlsx\",\n",
    "    index=False\n",
    ")"
   ]
  },
  {
   "cell_type": "code",
   "execution_count": null,
   "id": "4221ecfe",
   "metadata": {},
   "outputs": [],
   "source": []
  },
  {
   "cell_type": "code",
   "execution_count": null,
   "id": "cbd24194",
   "metadata": {},
   "outputs": [],
   "source": []
  }
 ],
 "metadata": {
  "kernelspec": {
   "display_name": "Python 3 (ipykernel)",
   "language": "python",
   "name": "python3"
  },
  "language_info": {
   "codemirror_mode": {
    "name": "ipython",
    "version": 3
   },
   "file_extension": ".py",
   "mimetype": "text/x-python",
   "name": "python",
   "nbconvert_exporter": "python",
   "pygments_lexer": "ipython3",
   "version": "3.11.5"
  }
 },
 "nbformat": 4,
 "nbformat_minor": 5
}
